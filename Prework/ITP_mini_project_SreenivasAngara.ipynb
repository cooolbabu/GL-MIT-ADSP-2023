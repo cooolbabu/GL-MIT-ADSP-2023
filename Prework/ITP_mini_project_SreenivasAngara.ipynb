{
 "cells": [
  {
   "cell_type": "markdown",
   "metadata": {},
   "source": [
    "## <center>Introduction to Python Programming – Mini Project</center>\n"
   ]
  },
  {
   "cell_type": "markdown",
   "metadata": {},
   "source": [
    "### Problem 1\n",
    "\n",
    "Write a program to calculate area of shapes. Your program should be capable of calculating the area of a square, rectangle, triangle and a circle. The user should be presented with options to select the shape. Based on which shape is chosen by the user, the program should ask for the appropriate input and print the resulting area on the screen.\n",
    "\n",
    "When the program is run, the screen should display something like this:\n",
    "\n",
    "**Which shape would you like to calculate the area for? Please enter the option number-**<br>\n",
    "**1. Square**<br>\n",
    "**2. Rectangle**<br>\n",
    "**3. Triangle**<br>\n",
    "**4. Circle**<br>\n",
    "**Enter Option: _**\n",
    "\n",
    "Say the user enters the option 1.\n",
    "\n",
    "**Please enter the length of a side: _**\n",
    "\n",
    "If the user enters a value of 5. The output should be:\n",
    "\n",
    "**The area of the square is 25**\n",
    "\n",
    "This program should indicate that the input is invalid if the user enters a character instead of a number as input. For instance if the user enters a value of ‘a’ instead of 5 in the previous example the program should prompt:\n",
    "\n",
    "**Invalid input, please enter a number: _**\n"
   ]
  },
  {
   "cell_type": "code",
   "execution_count": 22,
   "metadata": {},
   "outputs": [
    {
     "name": "stdout",
     "output_type": "stream",
     "text": [
      "Which shape would you like to calculate the area for? Please enter the option number-\n",
      "\t1. Square\n",
      "\t2. Rectangle\n",
      "\t3. Triangle\n",
      "\t4. Circle\n",
      "Enter Option: 4\n",
      "Please enter radius: as\n",
      "\n",
      "\n",
      "Invalid input, please enter a number:\n",
      "\t invalid literal for int() with base 10: 'as'\n"
     ]
    }
   ],
   "source": [
    "print(\"Which shape would you like to calculate the area for? Please enter the option number-\")\n",
    "print(\"\\t1. Square\")\n",
    "print(\"\\t2. Rectangle\")\n",
    "print(\"\\t3. Triangle\")\n",
    "print(\"\\t4. Circle\")\n",
    "option = int(input(\"Enter Option: \"))\n",
    "\n",
    "try:\n",
    "    if option == 1:\n",
    "        length = int(input(\"Please enter the length of a side: \"))\n",
    "        print(\"Area of the square: \", length*length)\n",
    "    elif option == 2:\n",
    "        length = int(input(\"Please enter the length of a side: \"))\n",
    "        breadth = int(input(\"Please enter the breadth of a side: \"))\n",
    "        print(\"Area of the rectangle: \", length*breadth)\n",
    "    elif option == 3:\n",
    "        length = int(input(\"Please enter the length of a base: \"))\n",
    "        height = int(input(\"Please enter the height: \"))\n",
    "        print(\"Area of the triangle: \", 0.5*length*height)\n",
    "    elif option == 4:\n",
    "        radius = int(input(\"Please enter radius: \"))\n",
    "        print(\"Area of the circle: \", 3.14*R*r)\n",
    "    else:\n",
    "        print(\"\\n\\nInvalid option. Try again\")\n",
    "except Exception as e:\n",
    "    print(\"\\n\\nInvalid input, please enter a number:\\n\\t\",  e)\n",
    "    \n",
    "    \n",
    "    \n"
   ]
  },
  {
   "cell_type": "markdown",
   "metadata": {},
   "source": [
    "### Problem 2\n",
    "\n",
    "You have newly joined an organization abc.com. Write a python function that will take your 1st and last name as input and print the official mail as which has a format like firstname.lastname@abc.com\n",
    "\n",
    "When the program is run, the screen should display something like this:\n",
    "\n",
    "Enter your first name: nikhil\n",
    "\n",
    "Enter your last name: agrawal\n",
    "\n",
    "You official email id is nikhil.agrawal@abc.com \n",
    "\n",
    "**Hint:** use string concatenation."
   ]
  },
  {
   "cell_type": "code",
   "execution_count": 25,
   "metadata": {},
   "outputs": [
    {
     "name": "stdout",
     "output_type": "stream",
     "text": [
      "Enter your first name: Sreenivas\n",
      "Enter your Last name: Angara\n",
      "Email is  Sreenivas.Angara@abc.com\n"
     ]
    }
   ],
   "source": [
    "firstName = input('Enter your first name: ')\n",
    "lastName = input('Enter your Last name: ')\n",
    "print('Email is ', firstName+'.'+lastName+'@abc.com')"
   ]
  },
  {
   "cell_type": "markdown",
   "metadata": {},
   "source": [
    "## Pushing into Github"
   ]
  },
  {
   "cell_type": "code",
   "execution_count": 4,
   "metadata": {},
   "outputs": [
    {
     "name": "stderr",
     "output_type": "stream",
     "text": [
      "warning: LF will be replaced by CRLF in Prework/ITP_mini_project_SreenivasAngara.ipynb.\n",
      "The file will have its original line endings in your working directory\n"
     ]
    },
    {
     "name": "stdout",
     "output_type": "stream",
     "text": [
      "[master 3c9fe52] Fixing Git commands\n",
      " 1 file changed, 24 insertions(+), 3 deletions(-)\n"
     ]
    },
    {
     "name": "stderr",
     "output_type": "stream",
     "text": [
      "To https://github.com/cooolbabu/GL-MIT-ADSP-2023.git\n",
      "   3805f80..3c9fe52  master -> master\n"
     ]
    }
   ],
   "source": [
    "!git add ITP_mini_project_SreenivasAngara.ipynb\n",
    "!git commit -m \"Fixing Git commands\"\n",
    "!git push"
   ]
  }
 ],
 "metadata": {
  "kernelspec": {
   "display_name": "Python 3 (ipykernel)",
   "language": "python",
   "name": "python3"
  },
  "language_info": {
   "codemirror_mode": {
    "name": "ipython",
    "version": 3
   },
   "file_extension": ".py",
   "mimetype": "text/x-python",
   "name": "python",
   "nbconvert_exporter": "python",
   "pygments_lexer": "ipython3",
   "version": "3.9.13"
  }
 },
 "nbformat": 4,
 "nbformat_minor": 2
}
